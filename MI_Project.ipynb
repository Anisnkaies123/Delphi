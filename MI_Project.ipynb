{
 "cells": [
  {
   "cell_type": "code",
   "execution_count": 2,
   "metadata": {
    "collapsed": true
   },
   "outputs": [],
   "source": [
    "import os\n",
    "import pandas as pd"
   ]
  },
  {
   "cell_type": "code",
   "execution_count": null,
   "metadata": {
    "collapsed": true
   },
   "outputs": [],
   "source": [
    "def plot_data(file_content):\n",
    "    data = filter(lambda x: len(x) > 0, [d.strip() for d in file_content.split(\"\\n\")])\n",
    "    data = [d[1] for d in [d.split(\">\") for d in data]]\n",
    "    data = [d.split(\"<\") for d in data]\n",
    "    data = [d[0] for d in data]\n",
    "    text = \", \".join(data)\n",
    "    data = text.strip()\n",
    "    data = data.split(\",\")\n",
    "    data = [d.strip() for d in data]\n",
    "    data = [d.split(\" \") for d in data]\n",
    "    df = pd.DataFrame(data, columns=[\"x\", \"y\"])\n",
    "    df.x = df.x.apply(lambda x: int(x))\n",
    "    df.y = df.y.apply(lambda x: -1*int(x))\n",
    "    \n",
    "    # plot the trace data for now\n",
    "    df.plot(x=\"x\", y=\"y\", kind=\"scatter\")"
   ]
  }
 ],
 "metadata": {
  "kernelspec": {
   "display_name": "Python 2",
   "language": "python",
   "name": "python2"
  },
  "language_info": {
   "codemirror_mode": {
    "name": "ipython",
    "version": 2
   },
   "file_extension": ".py",
   "mimetype": "text/x-python",
   "name": "python",
   "nbconvert_exporter": "python",
   "pygments_lexer": "ipython2",
   "version": "2.7.10"
  }
 },
 "nbformat": 4,
 "nbformat_minor": 0
}
