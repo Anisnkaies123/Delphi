{
 "cells": [
  {
   "cell_type": "code",
   "execution_count": 181,
   "metadata": {
    "collapsed": false
   },
   "outputs": [],
   "source": [
    "import datetime as dt\n",
    "\n",
    "# data analysis imports\n",
    "import pymysql as msql\n",
    "import pandas as pd\n",
    "import numpy as np\n",
    "\n",
    "# ml imports\n",
    "from sklearn.linear_model import LogisticRegression\n",
    "from sklearn.svm import SVC\n",
    "from sklearn.naive_bayes import GaussianNB\n",
    "from sklearn.ensemble import RandomForestClassifier\n",
    "from sklearn.metrics import classification_report\n",
    "\n",
    "from sklearn.feature_extraction.text import TfidfVectorizer\n",
    "\n",
    "import pdb\n",
    "\n",
    "% matplotlib inline"
   ]
  },
  {
   "cell_type": "code",
   "execution_count": 182,
   "metadata": {
    "collapsed": false
   },
   "outputs": [
    {
     "data": {
      "text/plain": [
       "'\\nTables\\n------\\ncb_acquisitions\\ncb_degrees\\ncb_funding_rounds\\ncb_funds\\ncb_ipos\\ncb_milestones\\ncb_objects\\ncb_offices\\ncb_people\\ncb_relationships\\ncb_investments\\n'"
      ]
     },
     "execution_count": 182,
     "metadata": {},
     "output_type": "execute_result"
    }
   ],
   "source": [
    "\"\"\"\n",
    "Tables\n",
    "------\n",
    "cb_acquisitions\n",
    "cb_degrees\n",
    "cb_funding_rounds\n",
    "cb_funds\n",
    "cb_ipos\n",
    "cb_milestones\n",
    "cb_objects\n",
    "cb_offices\n",
    "cb_people\n",
    "cb_relationships\n",
    "cb_investments\n",
    "\"\"\""
   ]
  },
  {
   "cell_type": "markdown",
   "metadata": {},
   "source": [
    "### Helper Methods"
   ]
  },
  {
   "cell_type": "code",
   "execution_count": 183,
   "metadata": {
    "collapsed": false
   },
   "outputs": [],
   "source": [
    "# Create a sql.txt file\n",
    "# Put the password to root@localhost on the first line\n",
    "# Put the name of your Crunchbase db in the second line\n",
    "\n",
    "with open('sql.txt','r') as f:\n",
    "    pwd = f.readline()\n",
    "    pwd = pwd.rstrip()\n",
    "    db_name = f.readline()\n",
    "    db_name = db_name.rstrip()"
   ]
  },
  {
   "cell_type": "code",
   "execution_count": 184,
   "metadata": {
    "collapsed": true
   },
   "outputs": [],
   "source": [
    "def establish_connection():\n",
    "    \"\"\"\n",
    "        Helper to establish connection with local mysql database. Returns cursor object. Publicly available\n",
    "        dataset so password commits are ignored.\n",
    "    \"\"\"\n",
    "    conn = msql.connect(host=\"localhost\", user=\"root\", password=pwd, db=db_name, \n",
    "                        cursorclass=msql.cursors.DictCursor)\n",
    "    return conn.cursor()"
   ]
  },
  {
   "cell_type": "code",
   "execution_count": 185,
   "metadata": {
    "collapsed": true
   },
   "outputs": [],
   "source": [
    "def fetch_dataframe(cursor):\n",
    "    \"\"\"\n",
    "        Helper to fetch from database and return pandas dataframe.\n",
    "        \n",
    "        Parameters\n",
    "        ----------\n",
    "        cursor : {pymysql.connection.cursor}\n",
    "            primary cursor obj\n",
    "    \"\"\"\n",
    "    return pd.DataFrame(cursor.fetchall())"
   ]
  },
  {
   "cell_type": "markdown",
   "metadata": {},
   "source": [
    "### Data Ingestion\n",
    "Create dataframes for all of the db tables."
   ]
  },
  {
   "cell_type": "code",
   "execution_count": 186,
   "metadata": {
    "collapsed": false
   },
   "outputs": [],
   "source": [
    "crs = establish_connection()"
   ]
  },
  {
   "cell_type": "code",
   "execution_count": 187,
   "metadata": {
    "collapsed": false
   },
   "outputs": [],
   "source": [
    "crs.execute(\"select * from cb_objects\")\n",
    "df_objects = fetch_dataframe(crs)"
   ]
  },
  {
   "cell_type": "code",
   "execution_count": 188,
   "metadata": {
    "collapsed": false
   },
   "outputs": [],
   "source": [
    "crs.execute(\"select * from cb_investments\")\n",
    "df_investments = fetch_dataframe(crs)"
   ]
  },
  {
   "cell_type": "code",
   "execution_count": 189,
   "metadata": {
    "collapsed": true
   },
   "outputs": [],
   "source": [
    "crs.execute(\"select * from cb_relationships\")\n",
    "df_relationships = fetch_dataframe(crs)"
   ]
  },
  {
   "cell_type": "code",
   "execution_count": 209,
   "metadata": {
    "collapsed": true
   },
   "outputs": [],
   "source": [
    "crs.execute(\"select * from cb_acquisitions\")\n",
    "df_acquisitions = fetch_dataframe(crs)"
   ]
  },
  {
   "cell_type": "code",
   "execution_count": 229,
   "metadata": {
    "collapsed": true
   },
   "outputs": [],
   "source": [
    "crs.execute(\"select * from cb_degrees\")\n",
    "df_degrees = fetch_dataframe(crs)"
   ]
  },
  {
   "cell_type": "code",
   "execution_count": 192,
   "metadata": {
    "collapsed": true
   },
   "outputs": [],
   "source": [
    "crs.execute(\"select * from cb_people\")\n",
    "df_people = fetch_dataframe(crs)"
   ]
  },
  {
   "cell_type": "code",
   "execution_count": 243,
   "metadata": {
    "collapsed": true
   },
   "outputs": [],
   "source": [
    "crs.execute(\"select * from cb_funds\")\n",
    "df_funds = fetch_dataframe(crs)"
   ]
  },
  {
   "cell_type": "code",
   "execution_count": 252,
   "metadata": {
    "collapsed": false,
    "scrolled": true
   },
   "outputs": [],
   "source": [
    "crs.execute(\"select * from cb_funding_rounds\")\n",
    "df_funrnds = fetch_dataframe(crs)\n",
    "\n",
    "crs.execute(\"select * from cb_ipos\")\n",
    "df_ipos = fetch_dataframe(crs)\n",
    "\n",
    "crs.execute(\"select * from cb_milestones\")\n",
    "df_milestones = fetch_dataframe(crs)\n",
    "\n",
    "crs.execute(\"select * from cb_offices\")\n",
    "df_offices = fetch_dataframe(crs)"
   ]
  },
  {
   "cell_type": "markdown",
   "metadata": {},
   "source": [
    "### Breaking up Objects table"
   ]
  },
  {
   "cell_type": "code",
   "execution_count": 210,
   "metadata": {
    "collapsed": false
   },
   "outputs": [],
   "source": [
    "df_all_companies = df_objects.loc[df_objects['entity_type']=='Company']\n",
    "df_closed_companies = df_all_companies.loc[df_all_companies['status']=='closed']\n",
    "\n",
    "df_acquired_companies = df_all_companies.loc[df_all_companies['status']=='acquired']\n",
    "df_ipo_companies = df_all_companies.loc[df_all_companies['status']=='ipo']\n",
    "\n",
    "df_all_fin_orgs = df_objects.loc[df_objects['entity_type']=='FinancialOrg']\n",
    "df_all_people = df_objects.loc[df_objects['entity_type']=='Person']\n",
    "\n",
    "# don't use df_objects anymore, use one of the above"
   ]
  },
  {
   "cell_type": "markdown",
   "metadata": {},
   "source": [
    "### Checking for table consistency"
   ]
  },
  {
   "cell_type": "code",
   "execution_count": 211,
   "metadata": {
    "collapsed": false
   },
   "outputs": [
    {
     "name": "stdout",
     "output_type": "stream",
     "text": [
      "[]\n",
      "['' 'c:11893' 'c:1429' 'c:16260' 'c:20393' 'c:21988' 'c:246942' 'c:247635'\n",
      " 'c:25378' 'c:2619' 'c:29305' 'c:3822' 'c:3930' 'c:40599' 'c:48584'\n",
      " 'c:66959' 'c:74735' 'c:74780']\n",
      "[False False False False False False False False False False False False\n",
      " False False False False False False]\n",
      "[]\n"
     ]
    }
   ],
   "source": [
    "# Check that df_acquired_companies matches up perfectly with df_acquisitions\n",
    "\n",
    "df_acquired_tings = df_all_companies.loc[df_all_companies['id'].isin(df_acquisitions.acquired_object_id)]\n",
    "\n",
    "# should be empty set\n",
    "print np.setdiff1d(df_acquired_tings.id, df_acquired_companies.id)\n",
    "\n",
    "# should also be empty but isn't for some reason..\n",
    "# probably because those rows were deleted in Objects but not in Acquisitions\n",
    "print np.setdiff1d(df_acquisitions.acquired_object_id, df_acquired_tings.id)\n",
    "deleted_companies = np.setdiff1d(df_acquisitions.acquired_object_id, df_acquired_tings.id)\n",
    "\n",
    "# should be all False\n",
    "print np.in1d(deleted_companies, df_acquired_companies.id)\n",
    "\n",
    "# so we can go ahead and delete these from df_acquisitions\n",
    "acq_companies = np.setdiff1d(df_acquisitions.acquired_object_id, deleted_companies)\n",
    "df_acquisitions = df_acquisitions[df_acquisitions.acquired_object_id.isin(acq_companies)]\n",
    "\n",
    "# should be empty now--so we good\n",
    "print np.setdiff1d(df_acquisitions.acquired_object_id, df_acquired_tings.id)"
   ]
  },
  {
   "cell_type": "code",
   "execution_count": 196,
   "metadata": {
    "collapsed": false
   },
   "outputs": [
    {
     "name": "stdout",
     "output_type": "stream",
     "text": [
      "['c:10241' 'c:10795' 'c:10855' 'c:12178' 'c:13219' 'c:13389' 'c:13402'\n",
      " 'c:13529' 'c:139713' 'c:143111' 'c:148188' 'c:14963' 'c:15436' 'c:16178'\n",
      " 'c:1645' 'c:1705' 'c:17205' 'c:17274' 'c:17482' 'c:1790' 'c:18127'\n",
      " 'c:19066' 'c:1942' 'c:200534' 'c:210969' 'c:212510' 'c:220208' 'c:223425'\n",
      " 'c:225697' 'c:231215' 'c:23241' 'c:23756' 'c:23911' 'c:24879' 'c:25106'\n",
      " 'c:254996' 'c:25744' 'c:25821' 'c:261265' 'c:261911' 'c:2644' 'c:265625'\n",
      " 'c:26754' 'c:26905' 'c:273194' 'c:27380' 'c:274037' 'c:274053' 'c:277914'\n",
      " 'c:285065' 'c:29208' 'c:30923' 'c:32447' 'c:32496' 'c:32778' 'c:32951'\n",
      " 'c:33792' 'c:34063' 'c:3484' 'c:35602' 'c:35663' 'c:36665' 'c:36666'\n",
      " 'c:36920' 'c:37684' 'c:37796' 'c:37881' 'c:3827' 'c:39953' 'c:40358'\n",
      " 'c:41' 'c:41391' 'c:41396' 'c:4498' 'c:47592' 'c:4823' 'c:4824' 'c:4850'\n",
      " 'c:4999' 'c:51097' 'c:51364' 'c:528' 'c:5346' 'c:54506' 'c:55994' 'c:5617'\n",
      " 'c:581' 'c:5990' 'c:61919' 'c:62372' 'c:63884' 'c:64486' 'c:67112'\n",
      " 'c:68182' 'c:68190' 'c:68222' 'c:68733' 'c:71598' 'c:75577' 'c:77590'\n",
      " 'c:80399' 'c:80846' 'c:8249' 'c:848']\n",
      "(1238, 40) (1134, 40)\n"
     ]
    }
   ],
   "source": [
    "# same checks for ipo companies\n",
    "df_ipo_tings = df_all_companies.loc[df_all_companies['id'].isin(df_ipos.object_id.unique())]\n",
    "\n",
    "# should be empty but is not\n",
    "print np.setdiff1d(df_ipo_tings.id, df_ipo_companies.id)\n",
    "# df_ipo_tings is bigger\n",
    "print df_ipo_tings.shape, df_ipo_companies.shape\n",
    "# this is because some companies that have been acquired have gone public\n",
    "# under their own name (not their acquirers name)\n",
    "# so we should prbly just take df_ipo_tings as our list of ipo_companies\n",
    "df_ipo_companies = df_ipo_tings"
   ]
  },
  {
   "cell_type": "markdown",
   "metadata": {},
   "source": [
    "### Trimming all tables to only relevant rows"
   ]
  },
  {
   "cell_type": "code",
   "execution_count": 197,
   "metadata": {
    "collapsed": false
   },
   "outputs": [],
   "source": [
    "# compiling a list of all relevant companies\n",
    "frames = [df_closed_companies, df_acquired_companies, df_ipo_companies]\n",
    "df_relevant_companies = pd.concat(frames)\n",
    "relevant_company_ids = df_relevant_companies.id.values"
   ]
  },
  {
   "cell_type": "code",
   "execution_count": 253,
   "metadata": {
    "collapsed": false
   },
   "outputs": [],
   "source": [
    "df_relevant_funrnds = df_funrnds[df_funrnds.object_id.isin(relevant_company_ids)]\n",
    "df_relevant_investments = df_investments[df_investments.funded_object_id.isin(relevant_company_ids)]\n",
    "df_relevant_milestones = df_milestones[df_milestones.object_id.isin(relevant_company_ids)]\n",
    "df_relevant_offices = df_offices[df_offices.object_id.isin(relevant_company_ids)]"
   ]
  },
  {
   "cell_type": "code",
   "execution_count": 244,
   "metadata": {
    "collapsed": false
   },
   "outputs": [],
   "source": [
    "relevant_fund_ids = df_relevant_investments.investor_object_id.values\n",
    "df_relevant_fin_orgs = df_fin_orgs[df_fin_orgs.id.isin(relevant_fund_ids)]\n",
    "df_relevant_funds = df_funds[df_funds.object_id.isin(relevant_fund_ids)]"
   ]
  },
  {
   "cell_type": "code",
   "execution_count": 200,
   "metadata": {
    "collapsed": false
   },
   "outputs": [
    {
     "name": "stdout",
     "output_type": "stream",
     "text": [
      "set(['HUN', 'EGY', 'BEN', 'NGA', 'USA', 'DOM', 'LUX', 'ISR', 'GHA', 'SWE', 'DEU', 'PER', 'IDN', 'CRI', 'BGR', 'MEX', 'GBR', 'CAN', 'CYM', 'ISL', 'KOR', 'UMI', 'JOR', 'PAK', 'BEL', 'SGP', 'UGA', 'MDA', 'SOM', 'URY', 'PRT', 'POL', 'NLD', 'BMU', 'LBN', 'AIA', 'PHL', 'HKG', 'SAU', 'ARE', 'SVN', 'FRA', 'EST', 'LTU', 'CHE', 'AUT', 'ESP', 'TWN', 'MMR', 'HRV', 'CHL', 'DNK', 'ROM', 'AUS', 'LVA', 'IRL', 'CHN', 'CSS', 'VNM', 'GIN', 'FIN', 'VGB', 'THA', 'NZL', 'SYC', 'KEN', 'MAR', None, 'ZAF', 'NIC', 'TUR', 'JPN', 'ITA', 'ANT', 'NCL', 'NOR', 'TUN', 'ARG', 'IND', 'RUS', 'CZE', 'MYS', 'BRA', 'GRC'])\n"
     ]
    }
   ],
   "source": [
    "print set(df_relevant_companies.country_code.tolist())"
   ]
  },
  {
   "cell_type": "code",
   "execution_count": 230,
   "metadata": {
    "collapsed": false
   },
   "outputs": [],
   "source": [
    "relevant_affiliation_ids = np.concatenate([relevant_company_ids, relevant_fund_ids])\n",
    "df_relevant_relationships = df_relationships[df_relationships.relationship_object_id.isin(relevant_affiliation_ids)]\n",
    "relevant_people_ids = df_relevant_relationships.person_object_id.values\n",
    "df_relevant_people = df_people[df_people.object_id.isin(relevant_people_ids)]\n",
    "df_relevant_degrees = df_degrees[df_degrees.object_id.isin(relevant_people_ids)]"
   ]
  },
  {
   "cell_type": "code",
   "execution_count": 206,
   "metadata": {
    "collapsed": true
   },
   "outputs": [],
   "source": [
    "# Only use the following from here onward:\n",
    "# df_acquisitions\n",
    "# df_ipos\n",
    "# df_relevant_companies\n",
    "# df_relevant_fin_orgs\n",
    "# df_relevant_people\n",
    "# df_relevant_funrnds\n",
    "# df_relevant_investments\n",
    "# df_relevant_milestones\n",
    "# df_relevant_offices\n",
    "# df relevant_funds\n",
    "# df_relevant_relationships\n",
    "# df_relevant_degrees"
   ]
  },
  {
   "cell_type": "markdown",
   "metadata": {},
   "source": [
    "### Transformations"
   ]
  },
  {
   "cell_type": "code",
   "execution_count": 207,
   "metadata": {
    "collapsed": true
   },
   "outputs": [],
   "source": [
    "def acquisition_transform(df):\n",
    "    \"\"\"\n",
    "        Method to transform acquisition dataframe for compatibility with remaining data set.\n",
    "        \n",
    "        Parameters\n",
    "        ----------\n",
    "        df : {pandas.DataFrame}\n",
    "            acquisitons dataframe\n",
    "    \"\"\"\n",
    "    \n",
    "    # we trust master source (crunchbase) and we're not scraping source data\n",
    "    # uninterested in creation/update dates\n",
    "    drop_cols = [\"source_url\", \"source_description\", \"created_at\", \n",
    "                 \"updated_at\", \"term_code\", \"price_currency_code\", \"acquisition_id\"]\n",
    "    for col in drop_cols:\n",
    "        df.drop(col, inplace=True, axis=1)\n",
    "    \n",
    "    # convert all decimal values to float for sklearn compatibility\n",
    "    decimal_cols = [\"price_amount\"]\n",
    "    for col in decimal_cols:\n",
    "        df[col] = df[col].apply(lambda x: float(x) if x is not None else x)"
   ]
  },
  {
   "cell_type": "code",
   "execution_count": 212,
   "metadata": {
    "collapsed": false,
    "scrolled": true
   },
   "outputs": [],
   "source": [
    "# drop all the non-USD ones to not have to deal with currency conversion\n",
    "df_acquisitions=df_acquisitions[df_acquisitions.price_currency_code==\"USD\"]\n",
    "\n",
    "acquisition_transform(df_acquisitions)"
   ]
  },
  {
   "cell_type": "code",
   "execution_count": 213,
   "metadata": {
    "collapsed": false
   },
   "outputs": [
    {
     "name": "stdout",
     "output_type": "stream",
     "text": [
      "(9390, 5)\n",
      "Index([u'acquired_at', u'acquired_object_id', u'acquiring_object_id', u'id',\n",
      "       u'price_amount'],\n",
      "      dtype='object')\n"
     ]
    }
   ],
   "source": [
    "print df_acquisitions.shape\n",
    "print df_acquisitions.columns"
   ]
  },
  {
   "cell_type": "code",
   "execution_count": 226,
   "metadata": {
    "collapsed": false
   },
   "outputs": [
    {
     "data": {
      "text/plain": [
       "(58662, 6)"
      ]
     },
     "execution_count": 226,
     "metadata": {},
     "output_type": "execute_result"
    }
   ],
   "source": [
    "df_relevant_degrees.shape"
   ]
  },
  {
   "cell_type": "code",
   "execution_count": 216,
   "metadata": {
    "collapsed": true
   },
   "outputs": [],
   "source": [
    "def degrees_transform(df, subject_ohe=False):\n",
    "    \"\"\"\n",
    "        Method to transform degrees dataframe. All transformations are conducted on original dataframe.\n",
    "        \n",
    "        Parameters\n",
    "        ----------\n",
    "        df : {pandas.DataFrame}\n",
    "            degrees dataframe\n",
    "        \n",
    "        subject_ohe : {bool}\n",
    "            one hot encode subjects. default to False as degree subject might not necessarily be\n",
    "            strong indicator of people success.\n",
    "    \"\"\"\n",
    "    # uninterested in creation and update dates\n",
    "    drop_cols = [\"created_at\", \"updated_at\"]\n",
    "    for col in drop_cols:\n",
    "        df.drop(col, inplace=True, axis=1)\n",
    "    \n",
    "    # significant date ranges for features\n",
    "    df_relevant_degrees[\"subject\"] = \\\n",
    "            df_relevant_degrees[\"subject\"].apply(lambda x: [sub.strip() for sub in x.split(\",\")] if x is not None else [])    \n",
    "    \n",
    "    if subject_ohe:\n",
    "        # binary features for subjects (multiple subjects are grouped together)\n",
    "        subject_store = set(sum(df_degrees.subject.tolist(), []))\n",
    "\n",
    "        # OHE for each subject\n",
    "        for subj in subject_store:\n",
    "            df[\"is_%s\" % subj] = df[\"subject\"].apply(lambda x: 1 if subj in x else 0)\n",
    "\n",
    "        df.drop(\"subject\", inplace=True, axis=1)"
   ]
  },
  {
   "cell_type": "code",
   "execution_count": 231,
   "metadata": {
    "collapsed": false
   },
   "outputs": [
    {
     "name": "stderr",
     "output_type": "stream",
     "text": [
      "/Users/Krishn/py_env/lib/python2.7/site-packages/ipykernel/__main__.py:17: SettingWithCopyWarning: \n",
      "A value is trying to be set on a copy of a slice from a DataFrame\n",
      "\n",
      "See the caveats in the documentation: http://pandas.pydata.org/pandas-docs/stable/indexing.html#indexing-view-versus-copy\n",
      "/Users/Krishn/py_env/lib/python2.7/site-packages/ipykernel/__main__.py:20: SettingWithCopyWarning: \n",
      "A value is trying to be set on a copy of a slice from a DataFrame.\n",
      "Try using .loc[row_indexer,col_indexer] = value instead\n",
      "\n",
      "See the caveats in the documentation: http://pandas.pydata.org/pandas-docs/stable/indexing.html#indexing-view-versus-copy\n"
     ]
    }
   ],
   "source": [
    "degrees_transform(df_relevant_degrees)"
   ]
  },
  {
   "cell_type": "code",
   "execution_count": 245,
   "metadata": {
    "collapsed": true
   },
   "outputs": [],
   "source": [
    "def funds_transform(df):\n",
    "    drop_cols = [\"created_at\", \"updated_at\", \"source_description\", \"source_url\", \n",
    "                 \"name\",\"raised_currency_code\"]\n",
    "    \n",
    "    for col in drop_cols:\n",
    "        df.drop(col, inplace=True, axis=1)\n",
    "    \n",
    "    decimal_cols = [\"raised_amount\"]\n",
    "    for col in decimal_cols:\n",
    "        df[col] = df[col].apply(lambda x: float(x) if x is not None else x)"
   ]
  },
  {
   "cell_type": "code",
   "execution_count": 247,
   "metadata": {
    "collapsed": false
   },
   "outputs": [],
   "source": [
    "df_relevant_funds = df_relevant_funds[df_relevant_funds.raised_currency_code == \"USD\"]\n",
    "funds_transform(df_relevant_funds)"
   ]
  },
  {
   "cell_type": "code",
   "execution_count": 248,
   "metadata": {
    "collapsed": false
   },
   "outputs": [
    {
     "data": {
      "text/html": [
       "<div>\n",
       "<table border=\"1\" class=\"dataframe\">\n",
       "  <thead>\n",
       "    <tr style=\"text-align: right;\">\n",
       "      <th></th>\n",
       "      <th>fund_id</th>\n",
       "      <th>funded_at</th>\n",
       "      <th>id</th>\n",
       "      <th>object_id</th>\n",
       "      <th>raised_amount</th>\n",
       "    </tr>\n",
       "  </thead>\n",
       "  <tbody>\n",
       "    <tr>\n",
       "      <th>0</th>\n",
       "      <td>1</td>\n",
       "      <td>2008-12-16</td>\n",
       "      <td>1</td>\n",
       "      <td>f:371</td>\n",
       "      <td>300000000.0</td>\n",
       "    </tr>\n",
       "    <tr>\n",
       "      <th>1</th>\n",
       "      <td>4</td>\n",
       "      <td>2008-12-17</td>\n",
       "      <td>4</td>\n",
       "      <td>f:17</td>\n",
       "      <td>200750000.0</td>\n",
       "    </tr>\n",
       "  </tbody>\n",
       "</table>\n",
       "</div>"
      ],
      "text/plain": [
       "   fund_id   funded_at  id object_id  raised_amount\n",
       "0        1  2008-12-16   1     f:371    300000000.0\n",
       "1        4  2008-12-17   4      f:17    200750000.0"
      ]
     },
     "execution_count": 248,
     "metadata": {},
     "output_type": "execute_result"
    }
   ],
   "source": [
    "df_relevant_funds.head(2)"
   ]
  },
  {
   "cell_type": "code",
   "execution_count": 249,
   "metadata": {
    "collapsed": false
   },
   "outputs": [
    {
     "data": {
      "text/plain": [
       "Index([u'created_at', u'created_by', u'funded_at', u'funding_round_code',\n",
       "       u'funding_round_id', u'funding_round_type', u'id', u'is_first_round',\n",
       "       u'is_last_round', u'object_id', u'participants',\n",
       "       u'post_money_currency_code', u'post_money_valuation',\n",
       "       u'post_money_valuation_usd', u'pre_money_currency_code',\n",
       "       u'pre_money_valuation', u'pre_money_valuation_usd', u'raised_amount',\n",
       "       u'raised_amount_usd', u'raised_currency_code', u'source_description',\n",
       "       u'source_url', u'updated_at'],\n",
       "      dtype='object')"
      ]
     },
     "execution_count": 249,
     "metadata": {},
     "output_type": "execute_result"
    }
   ],
   "source": [
    "df_relevant_funrnds.columns"
   ]
  },
  {
   "cell_type": "code",
   "execution_count": 254,
   "metadata": {
    "collapsed": true
   },
   "outputs": [],
   "source": [
    "def funrnds_transform(df):\n",
    "    drop_cols = [\"created_at\", \"updated_at\", \"funding_round_type\", \"raised_amount\",\n",
    "                \"raised_currency_code\", \"pre_money_currency_code\", \"post_money_currency_code\",\n",
    "                \"source_url\", \"source_description\", \"created_by\"]\n",
    "    \n",
    "    for col in drop_cols:\n",
    "        df.drop(col, inplace=True, axis=1)"
   ]
  },
  {
   "cell_type": "code",
   "execution_count": 255,
   "metadata": {
    "collapsed": false
   },
   "outputs": [
    {
     "name": "stderr",
     "output_type": "stream",
     "text": [
      "/Users/Krishn/py_env/lib/python2.7/site-packages/ipykernel/__main__.py:7: SettingWithCopyWarning: \n",
      "A value is trying to be set on a copy of a slice from a DataFrame\n",
      "\n",
      "See the caveats in the documentation: http://pandas.pydata.org/pandas-docs/stable/indexing.html#indexing-view-versus-copy\n"
     ]
    }
   ],
   "source": [
    "funrnds_transform(df_relevant_funrnds)"
   ]
  },
  {
   "cell_type": "code",
   "execution_count": null,
   "metadata": {
    "collapsed": true
   },
   "outputs": [],
   "source": []
  },
  {
   "cell_type": "code",
   "execution_count": null,
   "metadata": {
    "collapsed": true
   },
   "outputs": [],
   "source": []
  }
 ],
 "metadata": {
  "kernelspec": {
   "display_name": "Python 2",
   "language": "python",
   "name": "python2"
  },
  "language_info": {
   "codemirror_mode": {
    "name": "ipython",
    "version": 2
   },
   "file_extension": ".py",
   "mimetype": "text/x-python",
   "name": "python",
   "nbconvert_exporter": "python",
   "pygments_lexer": "ipython2",
   "version": "2.7.10"
  }
 },
 "nbformat": 4,
 "nbformat_minor": 0
}
