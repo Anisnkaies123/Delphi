{
 "cells": [
  {
   "cell_type": "code",
   "execution_count": 57,
   "metadata": {
    "collapsed": true
   },
   "outputs": [],
   "source": [
    "# data analysis imports\n",
    "import pymysql as msql\n",
    "import pandas as pd\n",
    "import numpy as np\n",
    "\n",
    "# ml imports\n",
    "from sklearn.linear_model import LogisticRegression\n",
    "from sklearn.svm import SVC\n",
    "from sklearn.naive_bayes import GaussianNB\n",
    "from sklearn.ensemble import RandomForestClassifier\n",
    "from sklearn.metrics import classification_report\n",
    "\n",
    "import pdb\n",
    "\n",
    "% matplotlib inline"
   ]
  },
  {
   "cell_type": "code",
   "execution_count": null,
   "metadata": {
    "collapsed": true
   },
   "outputs": [],
   "source": [
    "\"\"\"\n",
    "Tables\n",
    "------\n",
    "cb_acquisitions\n",
    "cb_degrees\n",
    "cb_funding_rounds\n",
    "cb_funds\n",
    "cb_ipos\n",
    "cb_milestones\n",
    "cb_objects\n",
    "cb_offices\n",
    "cb_people\n",
    "cb_relationships\n",
    "\n",
    "Missing\n",
    "-------\n",
    "cb_investments\n",
    "\"\"\""
   ]
  },
  {
   "cell_type": "markdown",
   "metadata": {},
   "source": [
    "### Helper Methods"
   ]
  },
  {
   "cell_type": "code",
   "execution_count": 8,
   "metadata": {
    "collapsed": true
   },
   "outputs": [],
   "source": [
    "def establish_connection():\n",
    "    \"\"\"\n",
    "        Helper to establish connection with local mysql database. Returns cursor object.\n",
    "    \"\"\"\n",
    "    conn = msql.connect(host=\"localhost\", user=\"root\", password=\"startupmi\", db=\"startupmi\", \n",
    "                        cursorclass=msql.cursors.DictCursor)\n",
    "    return conn.cursor()"
   ]
  },
  {
   "cell_type": "code",
   "execution_count": 19,
   "metadata": {
    "collapsed": true
   },
   "outputs": [],
   "source": [
    "def fetch_dataframe(cursor):\n",
    "    \"\"\"\n",
    "        Helper to fetch from database and return pandas dataframe.\n",
    "        \n",
    "        Parameters\n",
    "        ----------\n",
    "        cursor : {pymysql.connection.cursor}\n",
    "            primary cursor obj\n",
    "    \"\"\"\n",
    "    return pd.DataFrame(cursor.fetchall())"
   ]
  },
  {
   "cell_type": "markdown",
   "metadata": {},
   "source": [
    "### Data Ingestion\n",
    "Create dataframes for all of the db tables."
   ]
  },
  {
   "cell_type": "code",
   "execution_count": 156,
   "metadata": {
    "collapsed": true
   },
   "outputs": [],
   "source": [
    "crs = establish_connection()"
   ]
  },
  {
   "cell_type": "code",
   "execution_count": 30,
   "metadata": {
    "collapsed": false
   },
   "outputs": [],
   "source": [
    "crs.execute(\"select * from cb_acquisitions\")\n",
    "df_acquisitions = fetch_dataframe(crs)\n",
    "\n",
    "crs.execute(\"select * from cb_degrees\")\n",
    "df_degrees = fetch_dataframe(crs)\n",
    "\n",
    "crs.execute(\"select * from cb_funding_rounds\")\n",
    "df_funrnds = fetch_dataframe(crs)\n",
    "\n",
    "crs.execute(\"select * from cb_funds\")\n",
    "df_funds = fetch_dataframe(crs)\n",
    "\n",
    "crs.execute(\"select * from cb_ipos\")\n",
    "df_ipos = fetch_dataframe(crs)\n",
    "\n",
    "crs.execute(\"select * from cb_milestones\")\n",
    "df_milestones = fetch_dataframe(crs)\n",
    "\n",
    "crs.execute(\"select * from cb_objects\")\n",
    "df_objects = fetch_dataframe(crs)\n",
    "\n",
    "crs.execute(\"select * from cb_offices\")\n",
    "df_offices = fetch_dataframe(crs)\n",
    "\n",
    "crs.execute(\"select * from cb_people\")\n",
    "df_people = fetch_dataframe(crs)\n",
    "\n",
    "crs.execute(\"select * from cb_relationships\")\n",
    "df_relationships = fetch_dataframe(crs)"
   ]
  },
  {
   "cell_type": "markdown",
   "metadata": {},
   "source": [
    "### Transformations\n",
    "Apply transformations to each of the transformations for dtype compatibility. Create additional dataframes where appropriate."
   ]
  },
  {
   "cell_type": "code",
   "execution_count": 158,
   "metadata": {
    "collapsed": true
   },
   "outputs": [],
   "source": [
    "def acquisition_transform(df):\n",
    "    \"\"\"\n",
    "        Method to transform acquisition dataframe for compatibility with remaining data set.\n",
    "        \n",
    "        Parameters\n",
    "        ----------\n",
    "        df : {pandas.DataFrame}\n",
    "            acquisitons dataframe\n",
    "    \"\"\"\n",
    "    # we trust master source (crunchbase) and we're not scraping source data\n",
    "    # uninterested in creation/update dates\n",
    "    drop_cols = [\"source_url\", \"source_description\", \"created_at\", \"updated_at\"]\n",
    "    for col in drop_cols:\n",
    "        df.drop(col, inplace=True, axis=1)\n",
    "    \n",
    "    # convert all decimal values to float for sklearn compatibility\n",
    "    decimal_cols = [\"price_amount\"]\n",
    "    for col in decimal_cols:\n",
    "        df[col] = df[col].apply(lambda x: float(x) if x is not None else x)"
   ]
  },
  {
   "cell_type": "code",
   "execution_count": 159,
   "metadata": {
    "collapsed": false
   },
   "outputs": [
    {
     "data": {
      "text/html": [
       "<div>\n",
       "<table border=\"1\" class=\"dataframe\">\n",
       "  <thead>\n",
       "    <tr style=\"text-align: right;\">\n",
       "      <th></th>\n",
       "      <th>acquired_at</th>\n",
       "      <th>acquired_object_id</th>\n",
       "      <th>acquiring_object_id</th>\n",
       "      <th>acquisition_id</th>\n",
       "      <th>created_at</th>\n",
       "      <th>id</th>\n",
       "      <th>price_amount</th>\n",
       "      <th>price_currency_code</th>\n",
       "      <th>source_description</th>\n",
       "      <th>source_url</th>\n",
       "      <th>term_code</th>\n",
       "      <th>updated_at</th>\n",
       "    </tr>\n",
       "  </thead>\n",
       "  <tbody>\n",
       "    <tr>\n",
       "      <th>0</th>\n",
       "      <td>2007-05-30</td>\n",
       "      <td>c:10</td>\n",
       "      <td>c:11</td>\n",
       "      <td>1</td>\n",
       "      <td>2007-05-31 22:19:54</td>\n",
       "      <td>1</td>\n",
       "      <td>20000000</td>\n",
       "      <td>USD</td>\n",
       "      <td>Fox Interactive confirms purchase of Photobuck...</td>\n",
       "      <td>http://venturebeat.com/2007/05/30/fox-interact...</td>\n",
       "      <td>None</td>\n",
       "      <td>2008-05-21 19:23:44</td>\n",
       "    </tr>\n",
       "    <tr>\n",
       "      <th>1</th>\n",
       "      <td>2007-07-01</td>\n",
       "      <td>c:72</td>\n",
       "      <td>c:59</td>\n",
       "      <td>7</td>\n",
       "      <td>2007-07-03 08:14:50</td>\n",
       "      <td>2</td>\n",
       "      <td>60000000</td>\n",
       "      <td>USD</td>\n",
       "      <td>Deal is Confirmed: Google Acquired GrandCentral</td>\n",
       "      <td>http://www.techcrunch.com/2007/07/02/deal-is-c...</td>\n",
       "      <td>cash</td>\n",
       "      <td>2011-05-06 21:51:05</td>\n",
       "    </tr>\n",
       "  </tbody>\n",
       "</table>\n",
       "</div>"
      ],
      "text/plain": [
       "  acquired_at acquired_object_id acquiring_object_id  acquisition_id  \\\n",
       "0  2007-05-30               c:10                c:11               1   \n",
       "1  2007-07-01               c:72                c:59               7   \n",
       "\n",
       "           created_at  id price_amount price_currency_code  \\\n",
       "0 2007-05-31 22:19:54   1     20000000                 USD   \n",
       "1 2007-07-03 08:14:50   2     60000000                 USD   \n",
       "\n",
       "                                  source_description  \\\n",
       "0  Fox Interactive confirms purchase of Photobuck...   \n",
       "1    Deal is Confirmed: Google Acquired GrandCentral   \n",
       "\n",
       "                                          source_url term_code  \\\n",
       "0  http://venturebeat.com/2007/05/30/fox-interact...      None   \n",
       "1  http://www.techcrunch.com/2007/07/02/deal-is-c...      cash   \n",
       "\n",
       "           updated_at  \n",
       "0 2008-05-21 19:23:44  \n",
       "1 2011-05-06 21:51:05  "
      ]
     },
     "execution_count": 159,
     "metadata": {},
     "output_type": "execute_result"
    }
   ],
   "source": [
    "df_acquisitions.head(2)"
   ]
  },
  {
   "cell_type": "code",
   "execution_count": 160,
   "metadata": {
    "collapsed": false
   },
   "outputs": [],
   "source": [
    "acquisition_transform(df_acquisitions)"
   ]
  },
  {
   "cell_type": "code",
   "execution_count": 161,
   "metadata": {
    "collapsed": false
   },
   "outputs": [
    {
     "data": {
      "text/html": [
       "<div>\n",
       "<table border=\"1\" class=\"dataframe\">\n",
       "  <thead>\n",
       "    <tr style=\"text-align: right;\">\n",
       "      <th></th>\n",
       "      <th>acquired_at</th>\n",
       "      <th>acquired_object_id</th>\n",
       "      <th>acquiring_object_id</th>\n",
       "      <th>acquisition_id</th>\n",
       "      <th>id</th>\n",
       "      <th>price_amount</th>\n",
       "      <th>price_currency_code</th>\n",
       "      <th>term_code</th>\n",
       "    </tr>\n",
       "  </thead>\n",
       "  <tbody>\n",
       "    <tr>\n",
       "      <th>0</th>\n",
       "      <td>2007-05-30</td>\n",
       "      <td>c:10</td>\n",
       "      <td>c:11</td>\n",
       "      <td>1</td>\n",
       "      <td>1</td>\n",
       "      <td>20000000</td>\n",
       "      <td>USD</td>\n",
       "      <td>None</td>\n",
       "    </tr>\n",
       "    <tr>\n",
       "      <th>1</th>\n",
       "      <td>2007-07-01</td>\n",
       "      <td>c:72</td>\n",
       "      <td>c:59</td>\n",
       "      <td>7</td>\n",
       "      <td>2</td>\n",
       "      <td>60000000</td>\n",
       "      <td>USD</td>\n",
       "      <td>cash</td>\n",
       "    </tr>\n",
       "  </tbody>\n",
       "</table>\n",
       "</div>"
      ],
      "text/plain": [
       "  acquired_at acquired_object_id acquiring_object_id  acquisition_id  id  \\\n",
       "0  2007-05-30               c:10                c:11               1   1   \n",
       "1  2007-07-01               c:72                c:59               7   2   \n",
       "\n",
       "   price_amount price_currency_code term_code  \n",
       "0      20000000                 USD      None  \n",
       "1      60000000                 USD      cash  "
      ]
     },
     "execution_count": 161,
     "metadata": {},
     "output_type": "execute_result"
    }
   ],
   "source": [
    "df_acquisitions.head(2)"
   ]
  },
  {
   "cell_type": "code",
   "execution_count": 162,
   "metadata": {
    "collapsed": false
   },
   "outputs": [
    {
     "data": {
      "text/html": [
       "<div>\n",
       "<table border=\"1\" class=\"dataframe\">\n",
       "  <thead>\n",
       "    <tr style=\"text-align: right;\">\n",
       "      <th></th>\n",
       "      <th>created_at</th>\n",
       "      <th>degree_type</th>\n",
       "      <th>graduated_at</th>\n",
       "      <th>id</th>\n",
       "      <th>institution</th>\n",
       "      <th>object_id</th>\n",
       "      <th>subject</th>\n",
       "      <th>updated_at</th>\n",
       "    </tr>\n",
       "  </thead>\n",
       "  <tbody>\n",
       "    <tr>\n",
       "      <th>0</th>\n",
       "      <td>2008-02-19 03:17:36</td>\n",
       "      <td>MBA</td>\n",
       "      <td>None</td>\n",
       "      <td>1</td>\n",
       "      <td>None</td>\n",
       "      <td>p:6117</td>\n",
       "      <td>None</td>\n",
       "      <td>2008-02-19 03:17:36</td>\n",
       "    </tr>\n",
       "    <tr>\n",
       "      <th>1</th>\n",
       "      <td>2008-02-19 17:58:31</td>\n",
       "      <td>BA</td>\n",
       "      <td>1990-01-01</td>\n",
       "      <td>2</td>\n",
       "      <td>Washington University, St. Louis</td>\n",
       "      <td>p:6136</td>\n",
       "      <td>English, French</td>\n",
       "      <td>2008-02-25 00:23:55</td>\n",
       "    </tr>\n",
       "    <tr>\n",
       "      <th>2</th>\n",
       "      <td>2008-02-19 17:58:31</td>\n",
       "      <td>MS</td>\n",
       "      <td>1992-01-01</td>\n",
       "      <td>3</td>\n",
       "      <td>Boston University</td>\n",
       "      <td>p:6136</td>\n",
       "      <td>Mass Communication</td>\n",
       "      <td>2008-02-25 00:23:55</td>\n",
       "    </tr>\n",
       "    <tr>\n",
       "      <th>3</th>\n",
       "      <td>2008-02-19 23:40:40</td>\n",
       "      <td>MS</td>\n",
       "      <td>2006-01-01</td>\n",
       "      <td>4</td>\n",
       "      <td>University of Greenwich</td>\n",
       "      <td>p:6005</td>\n",
       "      <td>Internet Technology</td>\n",
       "      <td>2008-02-25 00:23:55</td>\n",
       "    </tr>\n",
       "    <tr>\n",
       "      <th>4</th>\n",
       "      <td>2008-02-20 05:28:09</td>\n",
       "      <td>BCS</td>\n",
       "      <td>None</td>\n",
       "      <td>5</td>\n",
       "      <td>Rice University</td>\n",
       "      <td>p:5832</td>\n",
       "      <td>Computer Science, Psychology</td>\n",
       "      <td>2008-02-20 05:28:09</td>\n",
       "    </tr>\n",
       "  </tbody>\n",
       "</table>\n",
       "</div>"
      ],
      "text/plain": [
       "           created_at degree_type graduated_at  id  \\\n",
       "0 2008-02-19 03:17:36         MBA         None   1   \n",
       "1 2008-02-19 17:58:31          BA   1990-01-01   2   \n",
       "2 2008-02-19 17:58:31          MS   1992-01-01   3   \n",
       "3 2008-02-19 23:40:40          MS   2006-01-01   4   \n",
       "4 2008-02-20 05:28:09         BCS         None   5   \n",
       "\n",
       "                        institution object_id                       subject  \\\n",
       "0                              None    p:6117                          None   \n",
       "1  Washington University, St. Louis    p:6136               English, French   \n",
       "2                 Boston University    p:6136            Mass Communication   \n",
       "3           University of Greenwich    p:6005           Internet Technology   \n",
       "4                   Rice University    p:5832  Computer Science, Psychology   \n",
       "\n",
       "           updated_at  \n",
       "0 2008-02-19 03:17:36  \n",
       "1 2008-02-25 00:23:55  \n",
       "2 2008-02-25 00:23:55  \n",
       "3 2008-02-25 00:23:55  \n",
       "4 2008-02-20 05:28:09  "
      ]
     },
     "execution_count": 162,
     "metadata": {},
     "output_type": "execute_result"
    }
   ],
   "source": [
    "df_degrees.head(5)"
   ]
  },
  {
   "cell_type": "code",
   "execution_count": 165,
   "metadata": {
    "collapsed": true
   },
   "outputs": [],
   "source": [
    "test = pd.DataFrame([1,2,3,4], columns=[\"col1\"])"
   ]
  },
  {
   "cell_type": "code",
   "execution_count": 166,
   "metadata": {
    "collapsed": false
   },
   "outputs": [
    {
     "data": {
      "text/html": [
       "<div>\n",
       "<table border=\"1\" class=\"dataframe\">\n",
       "  <thead>\n",
       "    <tr style=\"text-align: right;\">\n",
       "      <th></th>\n",
       "      <th>col1</th>\n",
       "    </tr>\n",
       "  </thead>\n",
       "  <tbody>\n",
       "    <tr>\n",
       "      <th>0</th>\n",
       "      <td>1</td>\n",
       "    </tr>\n",
       "    <tr>\n",
       "      <th>1</th>\n",
       "      <td>2</td>\n",
       "    </tr>\n",
       "    <tr>\n",
       "      <th>2</th>\n",
       "      <td>3</td>\n",
       "    </tr>\n",
       "    <tr>\n",
       "      <th>3</th>\n",
       "      <td>4</td>\n",
       "    </tr>\n",
       "  </tbody>\n",
       "</table>\n",
       "</div>"
      ],
      "text/plain": [
       "   col1\n",
       "0     1\n",
       "1     2\n",
       "2     3\n",
       "3     4"
      ]
     },
     "execution_count": 166,
     "metadata": {},
     "output_type": "execute_result"
    }
   ],
   "source": [
    "test"
   ]
  },
  {
   "cell_type": "code",
   "execution_count": 190,
   "metadata": {
    "collapsed": true
   },
   "outputs": [],
   "source": [
    "def degrees_transform(df, subject_ohe=False):\n",
    "    \"\"\"\n",
    "        Method to transform degrees dataframe. All transformations are conducted on original dataframe.\n",
    "        \n",
    "        Parameters\n",
    "        ----------\n",
    "        df : {pandas.DataFrame}\n",
    "            degrees dataframe\n",
    "        \n",
    "        subject_ohe : {bool}\n",
    "            one hot encode subjects. default to False as degree subject might not necessarily be\n",
    "            strong indicator of people success.\n",
    "    \"\"\"\n",
    "    # uninterested in creation and update dates\n",
    "    drop_cols = [\"created_at\", \"updated_at\"]\n",
    "    for col in drop_cols:\n",
    "        df.drop(col, inplace=True, axis=1)\n",
    "    \n",
    "    # significant date ranges for features\n",
    "    \n",
    "    df_degrees[\"subject\"] = \\\n",
    "            df_degrees[\"subject\"].apply(lambda x: [sub.strip() for sub in x.split(\",\")] if x is not None else [])\n",
    "    \n",
    "    if subject_ohe:\n",
    "        # binary features for subjects (multiple subjects are grouped together)\n",
    "        subject_store = set(sum(df_degrees.subject.tolist(), []))\n",
    "\n",
    "        # OHE for each subject\n",
    "        for subj in subject_store:\n",
    "            df[\"is_%s\" % subj] = df[\"subject\"].apply(lambda x: 1 if subj in x else 0)\n",
    "\n",
    "        df.drop(\"subject\", inplace=True, axis=1)"
   ]
  },
  {
   "cell_type": "code",
   "execution_count": null,
   "metadata": {
    "collapsed": true
   },
   "outputs": [],
   "source": [
    "degrees_transform(df_degrees)"
   ]
  },
  {
   "cell_type": "code",
   "execution_count": 191,
   "metadata": {
    "collapsed": false
   },
   "outputs": [
    {
     "data": {
      "text/html": [
       "<div>\n",
       "<table border=\"1\" class=\"dataframe\">\n",
       "  <thead>\n",
       "    <tr style=\"text-align: right;\">\n",
       "      <th></th>\n",
       "      <th>degree_type</th>\n",
       "      <th>graduated_at</th>\n",
       "      <th>id</th>\n",
       "      <th>institution</th>\n",
       "      <th>object_id</th>\n",
       "      <th>subject</th>\n",
       "    </tr>\n",
       "  </thead>\n",
       "  <tbody>\n",
       "    <tr>\n",
       "      <th>0</th>\n",
       "      <td>MBA</td>\n",
       "      <td>None</td>\n",
       "      <td>1</td>\n",
       "      <td>None</td>\n",
       "      <td>p:6117</td>\n",
       "      <td>[]</td>\n",
       "    </tr>\n",
       "    <tr>\n",
       "      <th>1</th>\n",
       "      <td>BA</td>\n",
       "      <td>1990-01-01</td>\n",
       "      <td>2</td>\n",
       "      <td>Washington University, St. Louis</td>\n",
       "      <td>p:6136</td>\n",
       "      <td>[English, French]</td>\n",
       "    </tr>\n",
       "  </tbody>\n",
       "</table>\n",
       "</div>"
      ],
      "text/plain": [
       "  degree_type graduated_at  id                       institution object_id  \\\n",
       "0         MBA         None   1                              None    p:6117   \n",
       "1          BA   1990-01-01   2  Washington University, St. Louis    p:6136   \n",
       "\n",
       "             subject  \n",
       "0                 []  \n",
       "1  [English, French]  "
      ]
     },
     "execution_count": 191,
     "metadata": {},
     "output_type": "execute_result"
    }
   ],
   "source": [
    "df_degrees.head(2)"
   ]
  },
  {
   "cell_type": "code",
   "execution_count": 74,
   "metadata": {
    "collapsed": false
   },
   "outputs": [
    {
     "data": {
      "text/html": [
       "<div>\n",
       "<table border=\"1\" class=\"dataframe\">\n",
       "  <thead>\n",
       "    <tr style=\"text-align: right;\">\n",
       "      <th></th>\n",
       "      <th>created_at</th>\n",
       "      <th>fund_id</th>\n",
       "      <th>funded_at</th>\n",
       "      <th>id</th>\n",
       "      <th>name</th>\n",
       "      <th>object_id</th>\n",
       "      <th>raised_amount</th>\n",
       "      <th>raised_currency_code</th>\n",
       "      <th>source_description</th>\n",
       "      <th>source_url</th>\n",
       "      <th>updated_at</th>\n",
       "    </tr>\n",
       "  </thead>\n",
       "  <tbody>\n",
       "    <tr>\n",
       "      <th>0</th>\n",
       "      <td>2008-12-17 03:07:16</td>\n",
       "      <td>1</td>\n",
       "      <td>2008-12-16</td>\n",
       "      <td>1</td>\n",
       "      <td>Second Fund</td>\n",
       "      <td>f:371</td>\n",
       "      <td>300000000</td>\n",
       "      <td>USD</td>\n",
       "      <td>peHub</td>\n",
       "      <td>http://www.pehub.com/26194/dfj-dragon-raising-...</td>\n",
       "      <td>2008-12-17 03:07:16</td>\n",
       "    </tr>\n",
       "    <tr>\n",
       "      <th>1</th>\n",
       "      <td>2008-12-18 22:04:42</td>\n",
       "      <td>4</td>\n",
       "      <td>2008-12-17</td>\n",
       "      <td>4</td>\n",
       "      <td>Sequoia Israel Fourth Fund</td>\n",
       "      <td>f:17</td>\n",
       "      <td>200750000</td>\n",
       "      <td>USD</td>\n",
       "      <td>Sequoia Israel Raises Fourth Fund</td>\n",
       "      <td>http://www.pehub.com/26725/sequoia-israel-rais...</td>\n",
       "      <td>2008-12-18 22:04:42</td>\n",
       "    </tr>\n",
       "  </tbody>\n",
       "</table>\n",
       "</div>"
      ],
      "text/plain": [
       "           created_at  fund_id   funded_at  id                        name  \\\n",
       "0 2008-12-17 03:07:16        1  2008-12-16   1                 Second Fund   \n",
       "1 2008-12-18 22:04:42        4  2008-12-17   4  Sequoia Israel Fourth Fund   \n",
       "\n",
       "  object_id raised_amount raised_currency_code  \\\n",
       "0     f:371     300000000                  USD   \n",
       "1      f:17     200750000                  USD   \n",
       "\n",
       "                  source_description  \\\n",
       "0                              peHub   \n",
       "1  Sequoia Israel Raises Fourth Fund   \n",
       "\n",
       "                                          source_url          updated_at  \n",
       "0  http://www.pehub.com/26194/dfj-dragon-raising-... 2008-12-17 03:07:16  \n",
       "1  http://www.pehub.com/26725/sequoia-israel-rais... 2008-12-18 22:04:42  "
      ]
     },
     "execution_count": 74,
     "metadata": {},
     "output_type": "execute_result"
    }
   ],
   "source": [
    "df_funds.head(2)"
   ]
  },
  {
   "cell_type": "code",
   "execution_count": 75,
   "metadata": {
    "collapsed": false
   },
   "outputs": [
    {
     "data": {
      "text/html": [
       "<div>\n",
       "<table border=\"1\" class=\"dataframe\">\n",
       "  <thead>\n",
       "    <tr style=\"text-align: right;\">\n",
       "      <th></th>\n",
       "      <th>created_at</th>\n",
       "      <th>created_by</th>\n",
       "      <th>funded_at</th>\n",
       "      <th>funding_round_code</th>\n",
       "      <th>funding_round_id</th>\n",
       "      <th>funding_round_type</th>\n",
       "      <th>id</th>\n",
       "      <th>is_first_round</th>\n",
       "      <th>is_last_round</th>\n",
       "      <th>object_id</th>\n",
       "      <th>...</th>\n",
       "      <th>post_money_valuation_usd</th>\n",
       "      <th>pre_money_currency_code</th>\n",
       "      <th>pre_money_valuation</th>\n",
       "      <th>pre_money_valuation_usd</th>\n",
       "      <th>raised_amount</th>\n",
       "      <th>raised_amount_usd</th>\n",
       "      <th>raised_currency_code</th>\n",
       "      <th>source_description</th>\n",
       "      <th>source_url</th>\n",
       "      <th>updated_at</th>\n",
       "    </tr>\n",
       "  </thead>\n",
       "  <tbody>\n",
       "    <tr>\n",
       "      <th>0</th>\n",
       "      <td>2007-07-04 04:52:57</td>\n",
       "      <td>initial-importer</td>\n",
       "      <td>2006-12-01</td>\n",
       "      <td>b</td>\n",
       "      <td>1</td>\n",
       "      <td>series-b</td>\n",
       "      <td>1</td>\n",
       "      <td>0</td>\n",
       "      <td>0</td>\n",
       "      <td>c:4</td>\n",
       "      <td>...</td>\n",
       "      <td>None</td>\n",
       "      <td>None</td>\n",
       "      <td>None</td>\n",
       "      <td>None</td>\n",
       "      <td>8500000</td>\n",
       "      <td>8500000</td>\n",
       "      <td>USD</td>\n",
       "      <td>None</td>\n",
       "      <td>http://www.marketingvox.com/archives/2006/12/2...</td>\n",
       "      <td>2008-02-27 23:14:29</td>\n",
       "    </tr>\n",
       "    <tr>\n",
       "      <th>1</th>\n",
       "      <td>2007-05-27 06:08:18</td>\n",
       "      <td>initial-importer</td>\n",
       "      <td>2004-09-01</td>\n",
       "      <td>angel</td>\n",
       "      <td>2</td>\n",
       "      <td>angel</td>\n",
       "      <td>2</td>\n",
       "      <td>0</td>\n",
       "      <td>1</td>\n",
       "      <td>c:5</td>\n",
       "      <td>...</td>\n",
       "      <td>None</td>\n",
       "      <td>USD</td>\n",
       "      <td>None</td>\n",
       "      <td>None</td>\n",
       "      <td>500000</td>\n",
       "      <td>500000</td>\n",
       "      <td>USD</td>\n",
       "      <td>None</td>\n",
       "      <td>None</td>\n",
       "      <td>2013-06-28 20:07:23</td>\n",
       "    </tr>\n",
       "  </tbody>\n",
       "</table>\n",
       "<p>2 rows × 23 columns</p>\n",
       "</div>"
      ],
      "text/plain": [
       "           created_at        created_by   funded_at funding_round_code  \\\n",
       "0 2007-07-04 04:52:57  initial-importer  2006-12-01                  b   \n",
       "1 2007-05-27 06:08:18  initial-importer  2004-09-01              angel   \n",
       "\n",
       "   funding_round_id funding_round_type  id  is_first_round  is_last_round  \\\n",
       "0                 1           series-b   1               0              0   \n",
       "1                 2              angel   2               0              1   \n",
       "\n",
       "  object_id         ...          post_money_valuation_usd  \\\n",
       "0       c:4         ...                              None   \n",
       "1       c:5         ...                              None   \n",
       "\n",
       "  pre_money_currency_code pre_money_valuation pre_money_valuation_usd  \\\n",
       "0                    None                None                    None   \n",
       "1                     USD                None                    None   \n",
       "\n",
       "  raised_amount raised_amount_usd raised_currency_code source_description  \\\n",
       "0       8500000           8500000                  USD               None   \n",
       "1        500000            500000                  USD               None   \n",
       "\n",
       "                                          source_url          updated_at  \n",
       "0  http://www.marketingvox.com/archives/2006/12/2... 2008-02-27 23:14:29  \n",
       "1                                               None 2013-06-28 20:07:23  \n",
       "\n",
       "[2 rows x 23 columns]"
      ]
     },
     "execution_count": 75,
     "metadata": {},
     "output_type": "execute_result"
    }
   ],
   "source": [
    "df_funrnds.head(2)"
   ]
  },
  {
   "cell_type": "code",
   "execution_count": 66,
   "metadata": {
    "collapsed": false
   },
   "outputs": [
    {
     "data": {
      "text/plain": [
       "Index([              u'created_at',               u'created_by',\n",
       "                      u'funded_at',       u'funding_round_code',\n",
       "               u'funding_round_id',       u'funding_round_type',\n",
       "                             u'id',           u'is_first_round',\n",
       "                  u'is_last_round',                u'object_id',\n",
       "                   u'participants', u'post_money_currency_code',\n",
       "           u'post_money_valuation', u'post_money_valuation_usd',\n",
       "        u'pre_money_currency_code',      u'pre_money_valuation',\n",
       "        u'pre_money_valuation_usd',            u'raised_amount',\n",
       "              u'raised_amount_usd',     u'raised_currency_code',\n",
       "             u'source_description',               u'source_url',\n",
       "                     u'updated_at'],\n",
       "      dtype='object')"
      ]
     },
     "execution_count": 66,
     "metadata": {},
     "output_type": "execute_result"
    }
   ],
   "source": [
    "df_funrnds.columns"
   ]
  },
  {
   "cell_type": "code",
   "execution_count": 67,
   "metadata": {
    "collapsed": false
   },
   "outputs": [
    {
     "data": {
      "text/html": [
       "<div>\n",
       "<table border=\"1\" class=\"dataframe\">\n",
       "  <thead>\n",
       "    <tr style=\"text-align: right;\">\n",
       "      <th></th>\n",
       "      <th>created_at</th>\n",
       "      <th>id</th>\n",
       "      <th>ipo_id</th>\n",
       "      <th>object_id</th>\n",
       "      <th>public_at</th>\n",
       "      <th>raised_amount</th>\n",
       "      <th>raised_currency_code</th>\n",
       "      <th>source_description</th>\n",
       "      <th>source_url</th>\n",
       "      <th>stock_symbol</th>\n",
       "      <th>updated_at</th>\n",
       "      <th>valuation_amount</th>\n",
       "      <th>valuation_currency_code</th>\n",
       "    </tr>\n",
       "  </thead>\n",
       "  <tbody>\n",
       "    <tr>\n",
       "      <th>0</th>\n",
       "      <td>2008-02-09 05:17:45</td>\n",
       "      <td>1</td>\n",
       "      <td>1</td>\n",
       "      <td>c:1654</td>\n",
       "      <td>1980-12-19</td>\n",
       "      <td>None</td>\n",
       "      <td>USD</td>\n",
       "      <td>None</td>\n",
       "      <td>None</td>\n",
       "      <td>NASDAQ:AAPL</td>\n",
       "      <td>2012-04-12 04:02:59</td>\n",
       "      <td>None</td>\n",
       "      <td>USD</td>\n",
       "    </tr>\n",
       "    <tr>\n",
       "      <th>1</th>\n",
       "      <td>2008-02-09 05:25:18</td>\n",
       "      <td>2</td>\n",
       "      <td>2</td>\n",
       "      <td>c:1242</td>\n",
       "      <td>1986-03-13</td>\n",
       "      <td>None</td>\n",
       "      <td>None</td>\n",
       "      <td>None</td>\n",
       "      <td>None</td>\n",
       "      <td>NASDAQ:MSFT</td>\n",
       "      <td>2010-12-11 12:39:46</td>\n",
       "      <td>None</td>\n",
       "      <td>USD</td>\n",
       "    </tr>\n",
       "    <tr>\n",
       "      <th>2</th>\n",
       "      <td>2008-02-09 05:40:32</td>\n",
       "      <td>3</td>\n",
       "      <td>3</td>\n",
       "      <td>c:342</td>\n",
       "      <td>1969-06-09</td>\n",
       "      <td>None</td>\n",
       "      <td>None</td>\n",
       "      <td>None</td>\n",
       "      <td>None</td>\n",
       "      <td>NYSE:DIS</td>\n",
       "      <td>2010-12-23 08:58:16</td>\n",
       "      <td>None</td>\n",
       "      <td>USD</td>\n",
       "    </tr>\n",
       "    <tr>\n",
       "      <th>3</th>\n",
       "      <td>2008-02-10 22:51:24</td>\n",
       "      <td>4</td>\n",
       "      <td>4</td>\n",
       "      <td>c:59</td>\n",
       "      <td>2004-08-25</td>\n",
       "      <td>None</td>\n",
       "      <td>None</td>\n",
       "      <td>None</td>\n",
       "      <td>None</td>\n",
       "      <td>NASDAQ:GOOG</td>\n",
       "      <td>2011-08-01 20:47:08</td>\n",
       "      <td>None</td>\n",
       "      <td>USD</td>\n",
       "    </tr>\n",
       "    <tr>\n",
       "      <th>4</th>\n",
       "      <td>2008-02-10 23:28:09</td>\n",
       "      <td>5</td>\n",
       "      <td>5</td>\n",
       "      <td>c:317</td>\n",
       "      <td>1997-05-01</td>\n",
       "      <td>None</td>\n",
       "      <td>None</td>\n",
       "      <td>None</td>\n",
       "      <td>None</td>\n",
       "      <td>NASDAQ:AMZN</td>\n",
       "      <td>2011-08-01 21:11:22</td>\n",
       "      <td>100000000000</td>\n",
       "      <td>USD</td>\n",
       "    </tr>\n",
       "  </tbody>\n",
       "</table>\n",
       "</div>"
      ],
      "text/plain": [
       "           created_at  id  ipo_id object_id   public_at raised_amount  \\\n",
       "0 2008-02-09 05:17:45   1       1    c:1654  1980-12-19          None   \n",
       "1 2008-02-09 05:25:18   2       2    c:1242  1986-03-13          None   \n",
       "2 2008-02-09 05:40:32   3       3     c:342  1969-06-09          None   \n",
       "3 2008-02-10 22:51:24   4       4      c:59  2004-08-25          None   \n",
       "4 2008-02-10 23:28:09   5       5     c:317  1997-05-01          None   \n",
       "\n",
       "  raised_currency_code source_description source_url stock_symbol  \\\n",
       "0                  USD               None       None  NASDAQ:AAPL   \n",
       "1                 None               None       None  NASDAQ:MSFT   \n",
       "2                 None               None       None     NYSE:DIS   \n",
       "3                 None               None       None  NASDAQ:GOOG   \n",
       "4                 None               None       None  NASDAQ:AMZN   \n",
       "\n",
       "           updated_at valuation_amount valuation_currency_code  \n",
       "0 2012-04-12 04:02:59             None                     USD  \n",
       "1 2010-12-11 12:39:46             None                     USD  \n",
       "2 2010-12-23 08:58:16             None                     USD  \n",
       "3 2011-08-01 20:47:08             None                     USD  \n",
       "4 2011-08-01 21:11:22     100000000000                     USD  "
      ]
     },
     "execution_count": 67,
     "metadata": {},
     "output_type": "execute_result"
    }
   ],
   "source": [
    "df_ipos.head()"
   ]
  },
  {
   "cell_type": "code",
   "execution_count": 70,
   "metadata": {
    "collapsed": false
   },
   "outputs": [
    {
     "data": {
      "text/html": [
       "<div>\n",
       "<table border=\"1\" class=\"dataframe\">\n",
       "  <thead>\n",
       "    <tr style=\"text-align: right;\">\n",
       "      <th></th>\n",
       "      <th>created_at</th>\n",
       "      <th>description</th>\n",
       "      <th>id</th>\n",
       "      <th>milestone_at</th>\n",
       "      <th>milestone_code</th>\n",
       "      <th>object_id</th>\n",
       "      <th>source_description</th>\n",
       "      <th>source_url</th>\n",
       "      <th>updated_at</th>\n",
       "    </tr>\n",
       "  </thead>\n",
       "  <tbody>\n",
       "    <tr>\n",
       "      <th>0</th>\n",
       "      <td>2008-06-18 08:14:06</td>\n",
       "      <td>Survives iPhone 3G Stevenote</td>\n",
       "      <td>1</td>\n",
       "      <td>2008-06-09</td>\n",
       "      <td>other</td>\n",
       "      <td>c:12</td>\n",
       "      <td>Twitter Fails To Fail, Community Rejoices</td>\n",
       "      <td>http://www.techcrunch.com/2008/06/10/twitter-f...</td>\n",
       "      <td>2008-06-18 08:14:06</td>\n",
       "    </tr>\n",
       "    <tr>\n",
       "      <th>1</th>\n",
       "      <td>2008-06-18 08:46:28</td>\n",
       "      <td>Twhirl announces support for Seesmic video pla...</td>\n",
       "      <td>2</td>\n",
       "      <td>2008-06-17</td>\n",
       "      <td>other</td>\n",
       "      <td>c:3138</td>\n",
       "      <td>Seesmic Now Available In Twhirl</td>\n",
       "      <td>http://www.inquisitr.com/1103/seesmic-now-avai...</td>\n",
       "      <td>2008-06-18 08:46:28</td>\n",
       "    </tr>\n",
       "  </tbody>\n",
       "</table>\n",
       "</div>"
      ],
      "text/plain": [
       "           created_at                                        description  id  \\\n",
       "0 2008-06-18 08:14:06                       Survives iPhone 3G Stevenote   1   \n",
       "1 2008-06-18 08:46:28  Twhirl announces support for Seesmic video pla...   2   \n",
       "\n",
       "  milestone_at milestone_code object_id  \\\n",
       "0   2008-06-09          other      c:12   \n",
       "1   2008-06-17          other    c:3138   \n",
       "\n",
       "                          source_description  \\\n",
       "0  Twitter Fails To Fail, Community Rejoices   \n",
       "1            Seesmic Now Available In Twhirl   \n",
       "\n",
       "                                          source_url          updated_at  \n",
       "0  http://www.techcrunch.com/2008/06/10/twitter-f... 2008-06-18 08:14:06  \n",
       "1  http://www.inquisitr.com/1103/seesmic-now-avai... 2008-06-18 08:46:28  "
      ]
     },
     "execution_count": 70,
     "metadata": {},
     "output_type": "execute_result"
    }
   ],
   "source": [
    "df_milestones.head(2) # seems irrelevant"
   ]
  },
  {
   "cell_type": "code",
   "execution_count": 76,
   "metadata": {
    "collapsed": false
   },
   "outputs": [
    {
     "data": {
      "text/html": [
       "<div>\n",
       "<table border=\"1\" class=\"dataframe\">\n",
       "  <thead>\n",
       "    <tr style=\"text-align: right;\">\n",
       "      <th></th>\n",
       "      <th>category_code</th>\n",
       "      <th>city</th>\n",
       "      <th>closed_at</th>\n",
       "      <th>country_code</th>\n",
       "      <th>created_at</th>\n",
       "      <th>created_by</th>\n",
       "      <th>description</th>\n",
       "      <th>domain</th>\n",
       "      <th>entity_id</th>\n",
       "      <th>entity_type</th>\n",
       "      <th>...</th>\n",
       "      <th>parent_id</th>\n",
       "      <th>permalink</th>\n",
       "      <th>region</th>\n",
       "      <th>relationships</th>\n",
       "      <th>short_description</th>\n",
       "      <th>state_code</th>\n",
       "      <th>status</th>\n",
       "      <th>tag_list</th>\n",
       "      <th>twitter_username</th>\n",
       "      <th>updated_at</th>\n",
       "    </tr>\n",
       "  </thead>\n",
       "  <tbody>\n",
       "    <tr>\n",
       "      <th>0</th>\n",
       "      <td>web</td>\n",
       "      <td>Seattle</td>\n",
       "      <td>None</td>\n",
       "      <td>USA</td>\n",
       "      <td>2007-05-25 06:51:27</td>\n",
       "      <td>initial-importer</td>\n",
       "      <td>Technology Platform Company</td>\n",
       "      <td>wetpaint-inc.com</td>\n",
       "      <td>1</td>\n",
       "      <td>Company</td>\n",
       "      <td>...</td>\n",
       "      <td>None</td>\n",
       "      <td>/company/wetpaint</td>\n",
       "      <td>Seattle</td>\n",
       "      <td>17</td>\n",
       "      <td>None</td>\n",
       "      <td>WA</td>\n",
       "      <td>operating</td>\n",
       "      <td>wiki, seattle, elowitz, media-industry, media-...</td>\n",
       "      <td>BachelrWetpaint</td>\n",
       "      <td>2013-04-13 03:29:00</td>\n",
       "    </tr>\n",
       "    <tr>\n",
       "      <th>1</th>\n",
       "      <td>games_video</td>\n",
       "      <td>Culver City</td>\n",
       "      <td>None</td>\n",
       "      <td>USA</td>\n",
       "      <td>2007-05-31 21:11:51</td>\n",
       "      <td>initial-importer</td>\n",
       "      <td>None</td>\n",
       "      <td>flektor.com</td>\n",
       "      <td>10</td>\n",
       "      <td>Company</td>\n",
       "      <td>...</td>\n",
       "      <td>None</td>\n",
       "      <td>/company/flektor</td>\n",
       "      <td>Los Angeles</td>\n",
       "      <td>6</td>\n",
       "      <td>None</td>\n",
       "      <td>CA</td>\n",
       "      <td>acquired</td>\n",
       "      <td>flektor, photo, video</td>\n",
       "      <td>None</td>\n",
       "      <td>2008-05-23 23:23:14</td>\n",
       "    </tr>\n",
       "  </tbody>\n",
       "</table>\n",
       "<p>2 rows × 40 columns</p>\n",
       "</div>"
      ],
      "text/plain": [
       "  category_code         city closed_at country_code          created_at  \\\n",
       "0           web      Seattle      None          USA 2007-05-25 06:51:27   \n",
       "1   games_video  Culver City      None          USA 2007-05-31 21:11:51   \n",
       "\n",
       "         created_by                  description            domain  entity_id  \\\n",
       "0  initial-importer  Technology Platform Company  wetpaint-inc.com          1   \n",
       "1  initial-importer                         None       flektor.com         10   \n",
       "\n",
       "  entity_type         ...         parent_id          permalink       region  \\\n",
       "0     Company         ...              None  /company/wetpaint      Seattle   \n",
       "1     Company         ...              None   /company/flektor  Los Angeles   \n",
       "\n",
       "  relationships  short_description state_code     status  \\\n",
       "0            17               None         WA  operating   \n",
       "1             6               None         CA   acquired   \n",
       "\n",
       "                                            tag_list  twitter_username  \\\n",
       "0  wiki, seattle, elowitz, media-industry, media-...   BachelrWetpaint   \n",
       "1                              flektor, photo, video              None   \n",
       "\n",
       "           updated_at  \n",
       "0 2013-04-13 03:29:00  \n",
       "1 2008-05-23 23:23:14  \n",
       "\n",
       "[2 rows x 40 columns]"
      ]
     },
     "execution_count": 76,
     "metadata": {},
     "output_type": "execute_result"
    }
   ],
   "source": [
    "df_objects.head(2) # largest table"
   ]
  },
  {
   "cell_type": "code",
   "execution_count": 77,
   "metadata": {
    "collapsed": false
   },
   "outputs": [
    {
     "data": {
      "text/plain": [
       "Index([      u'category_code',                u'city',           u'closed_at',\n",
       "              u'country_code',          u'created_at',          u'created_by',\n",
       "               u'description',              u'domain',           u'entity_id',\n",
       "               u'entity_type',    u'first_funding_at', u'first_investment_at',\n",
       "        u'first_milestone_at',          u'founded_at',      u'funding_rounds',\n",
       "         u'funding_total_usd',        u'homepage_url',                  u'id',\n",
       "        u'invested_companies',   u'investment_rounds',     u'last_funding_at',\n",
       "        u'last_investment_at',   u'last_milestone_at',         u'logo_height',\n",
       "                  u'logo_url',          u'logo_width',          u'milestones',\n",
       "                      u'name',     u'normalized_name',            u'overview',\n",
       "                 u'parent_id',           u'permalink',              u'region',\n",
       "             u'relationships',   u'short_description',          u'state_code',\n",
       "                    u'status',            u'tag_list',    u'twitter_username',\n",
       "                u'updated_at'],\n",
       "      dtype='object')"
      ]
     },
     "execution_count": 77,
     "metadata": {},
     "output_type": "execute_result"
    }
   ],
   "source": [
    "df_objects.columns"
   ]
  },
  {
   "cell_type": "code",
   "execution_count": 104,
   "metadata": {
    "collapsed": false
   },
   "outputs": [
    {
     "data": {
      "text/html": [
       "<div>\n",
       "<table border=\"1\" class=\"dataframe\">\n",
       "  <thead>\n",
       "    <tr style=\"text-align: right;\">\n",
       "      <th></th>\n",
       "      <th>address1</th>\n",
       "      <th>address2</th>\n",
       "      <th>city</th>\n",
       "      <th>country_code</th>\n",
       "      <th>created_at</th>\n",
       "      <th>description</th>\n",
       "      <th>id</th>\n",
       "      <th>latitude</th>\n",
       "      <th>longitude</th>\n",
       "      <th>object_id</th>\n",
       "      <th>office_id</th>\n",
       "      <th>region</th>\n",
       "      <th>state_code</th>\n",
       "      <th>updated_at</th>\n",
       "      <th>zip_code</th>\n",
       "    </tr>\n",
       "  </thead>\n",
       "  <tbody>\n",
       "    <tr>\n",
       "      <th>0</th>\n",
       "      <td>710 - 2nd Avenue</td>\n",
       "      <td>Suite 1100</td>\n",
       "      <td>Seattle</td>\n",
       "      <td>USA</td>\n",
       "      <td>None</td>\n",
       "      <td></td>\n",
       "      <td>1</td>\n",
       "      <td>47.6031220000</td>\n",
       "      <td>-122.3332530000</td>\n",
       "      <td>c:1</td>\n",
       "      <td>1</td>\n",
       "      <td>Seattle</td>\n",
       "      <td>WA</td>\n",
       "      <td>None</td>\n",
       "      <td>98104</td>\n",
       "    </tr>\n",
       "    <tr>\n",
       "      <th>1</th>\n",
       "      <td>4900 Hopyard Rd</td>\n",
       "      <td>Suite 310</td>\n",
       "      <td>Pleasanton</td>\n",
       "      <td>USA</td>\n",
       "      <td>None</td>\n",
       "      <td>Headquarters</td>\n",
       "      <td>2</td>\n",
       "      <td>37.6929340000</td>\n",
       "      <td>-121.9049450000</td>\n",
       "      <td>c:3</td>\n",
       "      <td>3</td>\n",
       "      <td>SF Bay</td>\n",
       "      <td>CA</td>\n",
       "      <td>None</td>\n",
       "      <td>94588</td>\n",
       "    </tr>\n",
       "  </tbody>\n",
       "</table>\n",
       "</div>"
      ],
      "text/plain": [
       "           address1    address2        city country_code created_at  \\\n",
       "0  710 - 2nd Avenue  Suite 1100     Seattle          USA       None   \n",
       "1   4900 Hopyard Rd   Suite 310  Pleasanton          USA       None   \n",
       "\n",
       "    description  id       latitude        longitude object_id  office_id  \\\n",
       "0                 1  47.6031220000  -122.3332530000       c:1          1   \n",
       "1  Headquarters   2  37.6929340000  -121.9049450000       c:3          3   \n",
       "\n",
       "    region state_code updated_at zip_code  \n",
       "0  Seattle         WA       None    98104  \n",
       "1   SF Bay         CA       None    94588  "
      ]
     },
     "execution_count": 104,
     "metadata": {},
     "output_type": "execute_result"
    }
   ],
   "source": [
    "df_offices.head(2) # probably irrelevant outside of state, region, and city"
   ]
  },
  {
   "cell_type": "code",
   "execution_count": 107,
   "metadata": {
    "collapsed": false
   },
   "outputs": [
    {
     "data": {
      "text/html": [
       "<div>\n",
       "<table border=\"1\" class=\"dataframe\">\n",
       "  <thead>\n",
       "    <tr style=\"text-align: right;\">\n",
       "      <th></th>\n",
       "      <th>affiliation_name</th>\n",
       "      <th>birthplace</th>\n",
       "      <th>first_name</th>\n",
       "      <th>id</th>\n",
       "      <th>last_name</th>\n",
       "      <th>object_id</th>\n",
       "    </tr>\n",
       "  </thead>\n",
       "  <tbody>\n",
       "    <tr>\n",
       "      <th>0</th>\n",
       "      <td>Blue Nile</td>\n",
       "      <td>None</td>\n",
       "      <td>Ben</td>\n",
       "      <td>1</td>\n",
       "      <td>Elowitz</td>\n",
       "      <td>p:2</td>\n",
       "    </tr>\n",
       "    <tr>\n",
       "      <th>1</th>\n",
       "      <td>Wetpaint</td>\n",
       "      <td>None</td>\n",
       "      <td>Kevin</td>\n",
       "      <td>2</td>\n",
       "      <td>Flaherty</td>\n",
       "      <td>p:3</td>\n",
       "    </tr>\n",
       "  </tbody>\n",
       "</table>\n",
       "</div>"
      ],
      "text/plain": [
       "  affiliation_name birthplace first_name  id last_name object_id\n",
       "0        Blue Nile       None        Ben   1   Elowitz       p:2\n",
       "1         Wetpaint       None      Kevin   2  Flaherty       p:3"
      ]
     },
     "execution_count": 107,
     "metadata": {},
     "output_type": "execute_result"
    }
   ],
   "source": [
    "df_people.head(2)"
   ]
  },
  {
   "cell_type": "code",
   "execution_count": 109,
   "metadata": {
    "collapsed": false
   },
   "outputs": [
    {
     "data": {
      "text/html": [
       "<div>\n",
       "<table border=\"1\" class=\"dataframe\">\n",
       "  <thead>\n",
       "    <tr style=\"text-align: right;\">\n",
       "      <th></th>\n",
       "      <th>created_at</th>\n",
       "      <th>end_at</th>\n",
       "      <th>id</th>\n",
       "      <th>is_past</th>\n",
       "      <th>person_object_id</th>\n",
       "      <th>relationship_id</th>\n",
       "      <th>relationship_object_id</th>\n",
       "      <th>sequence</th>\n",
       "      <th>start_at</th>\n",
       "      <th>title</th>\n",
       "      <th>updated_at</th>\n",
       "    </tr>\n",
       "  </thead>\n",
       "  <tbody>\n",
       "    <tr>\n",
       "      <th>0</th>\n",
       "      <td>2007-05-25 07:03:54</td>\n",
       "      <td>None</td>\n",
       "      <td>1</td>\n",
       "      <td>0</td>\n",
       "      <td>p:2</td>\n",
       "      <td>1</td>\n",
       "      <td>c:1</td>\n",
       "      <td>8</td>\n",
       "      <td>None</td>\n",
       "      <td>Co-Founder/CEO/Board of Directors</td>\n",
       "      <td>2013-06-03 09:58:46</td>\n",
       "    </tr>\n",
       "    <tr>\n",
       "      <th>1</th>\n",
       "      <td>2007-05-25 07:04:16</td>\n",
       "      <td>None</td>\n",
       "      <td>2</td>\n",
       "      <td>1</td>\n",
       "      <td>p:3</td>\n",
       "      <td>2</td>\n",
       "      <td>c:1</td>\n",
       "      <td>279242</td>\n",
       "      <td>None</td>\n",
       "      <td>VP Marketing</td>\n",
       "      <td>2010-05-21 16:31:34</td>\n",
       "    </tr>\n",
       "  </tbody>\n",
       "</table>\n",
       "</div>"
      ],
      "text/plain": [
       "           created_at end_at  id  is_past person_object_id  relationship_id  \\\n",
       "0 2007-05-25 07:03:54   None   1        0              p:2                1   \n",
       "1 2007-05-25 07:04:16   None   2        1              p:3                2   \n",
       "\n",
       "  relationship_object_id  sequence start_at  \\\n",
       "0                    c:1         8     None   \n",
       "1                    c:1    279242     None   \n",
       "\n",
       "                               title          updated_at  \n",
       "0  Co-Founder/CEO/Board of Directors 2013-06-03 09:58:46  \n",
       "1                       VP Marketing 2010-05-21 16:31:34  "
      ]
     },
     "execution_count": 109,
     "metadata": {},
     "output_type": "execute_result"
    }
   ],
   "source": [
    "df_relationships.head(2)"
   ]
  },
  {
   "cell_type": "code",
   "execution_count": null,
   "metadata": {
    "collapsed": true
   },
   "outputs": [],
   "source": [
    "# remove urls as we're not scraping data"
   ]
  },
  {
   "cell_type": "code",
   "execution_count": null,
   "metadata": {
    "collapsed": true
   },
   "outputs": [],
   "source": [
    "# overview in objects table can be tokenized\n",
    "# remove stop words thus having additional keywords that 'describe' company\n",
    "# might need custom one hot encoding"
   ]
  },
  {
   "cell_type": "code",
   "execution_count": null,
   "metadata": {
    "collapsed": true
   },
   "outputs": [],
   "source": [
    "# can use objects table as primary data store for companies (apply entity_type == \"Company\" filter)"
   ]
  },
  {
   "cell_type": "code",
   "execution_count": null,
   "metadata": {
    "collapsed": true
   },
   "outputs": [],
   "source": [
    "# create single dataset for people"
   ]
  },
  {
   "cell_type": "code",
   "execution_count": null,
   "metadata": {
    "collapsed": true
   },
   "outputs": [],
   "source": [
    "\"\"\"\n",
    "Table Mapping\n",
    "\n",
    "\n",
    "\"\"\""
   ]
  }
 ],
 "metadata": {
  "kernelspec": {
   "display_name": "Python 2",
   "language": "python",
   "name": "python2"
  },
  "language_info": {
   "codemirror_mode": {
    "name": "ipython",
    "version": 2
   },
   "file_extension": ".py",
   "mimetype": "text/x-python",
   "name": "python",
   "nbconvert_exporter": "python",
   "pygments_lexer": "ipython2",
   "version": "2.7.10"
  }
 },
 "nbformat": 4,
 "nbformat_minor": 0
}
